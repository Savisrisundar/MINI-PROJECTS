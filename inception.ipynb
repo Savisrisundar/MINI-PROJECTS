{
  "nbformat": 4,
  "nbformat_minor": 0,
  "metadata": {
    "colab": {
      "provenance": [],
      "authorship_tag": "ABX9TyM4gRX5ghgSuSpjjy0iiDV1",
      "include_colab_link": true
    },
    "kernelspec": {
      "name": "python3",
      "display_name": "Python 3"
    },
    "language_info": {
      "name": "python"
    }
  },
  "cells": [
    {
      "cell_type": "markdown",
      "metadata": {
        "id": "view-in-github",
        "colab_type": "text"
      },
      "source": [
        "<a href=\"https://colab.research.google.com/github/Savisrisundar/MINI-PROJECTS/blob/main/inception.ipynb\" target=\"_parent\"><img src=\"https://colab.research.google.com/assets/colab-badge.svg\" alt=\"Open In Colab\"/></a>"
      ]
    },
    {
      "cell_type": "code",
      "execution_count": null,
      "metadata": {
        "id": "5FJD4zcB5GZm"
      },
      "outputs": [],
      "source": []
    },
    {
      "cell_type": "code",
      "source": [
        "import tensorflow as tf\n",
        "import numpy as np\n",
        "import matplotlib.pyplot as plt\n"
      ],
      "metadata": {
        "id": "09EeOZAIRpjz"
      },
      "execution_count": 1,
      "outputs": []
    },
    {
      "cell_type": "code",
      "source": [
        "inception_v3=tf.keras.applications.InceptionV3(\n",
        "    weights='imagenet',\n",
        "    include_top=False\n",
        ")"
      ],
      "metadata": {
        "colab": {
          "base_uri": "https://localhost:8080/"
        },
        "id": "QpEeOUtAR762",
        "outputId": "2c0bcc94-769b-4a69-9d50-840b13846cb2"
      },
      "execution_count": 6,
      "outputs": [
        {
          "output_type": "stream",
          "name": "stdout",
          "text": [
            "Downloading data from https://storage.googleapis.com/tensorflow/keras-applications/inception_v3/inception_v3_weights_tf_dim_ordering_tf_kernels_notop.h5\n",
            "87910968/87910968 [==============================] - 0s 0us/step\n"
          ]
        }
      ]
    },
    {
      "cell_type": "code",
      "source": [
        "def load_img(img_path):\n",
        "  img=tf.io.read_file(img_path)\n",
        "  img=tf.io.decode_jpeg(img, channels=3)\n",
        "  img=tf.keras.layers.Resizing(299,299)(img)\n",
        "  img=img/255\n",
        "  return img\n",
        "\n",
        "def get_feature_vector(img_path):\n",
        "  img=load_img(img_path)\n",
        "  img=tf.expand_dims(img,axis=0)\n",
        "  feature_vector=inception_v3(img)\n",
        "  return img,feature_vector"
      ],
      "metadata": {
        "id": "LPUHSFDVTt-e"
      },
      "execution_count": 7,
      "outputs": []
    },
    {
      "cell_type": "code",
      "source": [],
      "metadata": {
        "id": "1rk4GGyAWWl7"
      },
      "execution_count": null,
      "outputs": []
    }
  ]
}